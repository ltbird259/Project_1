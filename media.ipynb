{
 "cells": [
  {
   "cell_type": "code",
   "execution_count": 1,
   "metadata": {},
   "outputs": [],
   "source": [
    "# Dependencies and Setup\n",
    "%matplotlib inline\n",
    "import matplotlib.pyplot as plt\n",
    "import pandas as pd\n",
    "import numpy as np\n",
    "from scipy import stats\n",
    "from scipy.stats import sem\n",
    "from random import random\n",
    "\n",
    "# Hide warning messages in notebook\n",
    "import warnings\n",
    "warnings.filterwarnings('ignore')\n",
    "\n"
   ]
  },
  {
   "cell_type": "markdown",
   "metadata": {},
   "source": [
    "# Horror: Import and Clean Data"
   ]
  },
  {
   "cell_type": "code",
   "execution_count": 2,
   "metadata": {},
   "outputs": [
    {
     "data": {
      "text/html": [
       "<div>\n",
       "<style scoped>\n",
       "    .dataframe tbody tr th:only-of-type {\n",
       "        vertical-align: middle;\n",
       "    }\n",
       "\n",
       "    .dataframe tbody tr th {\n",
       "        vertical-align: top;\n",
       "    }\n",
       "\n",
       "    .dataframe thead th {\n",
       "        text-align: right;\n",
       "    }\n",
       "</style>\n",
       "<table border=\"1\" class=\"dataframe\">\n",
       "  <thead>\n",
       "    <tr style=\"text-align: right;\">\n",
       "      <th></th>\n",
       "      <th>IMDB ID</th>\n",
       "      <th>Title</th>\n",
       "      <th>Type of Media</th>\n",
       "      <th>Year</th>\n",
       "      <th>Country</th>\n",
       "      <th>Genre</th>\n",
       "      <th>Awards</th>\n",
       "      <th>Production Company</th>\n",
       "      <th>Rating</th>\n",
       "      <th>Metascore</th>\n",
       "      <th>IMDB Rating</th>\n",
       "      <th># of Votes</th>\n",
       "      <th>Start/Release_Year</th>\n",
       "    </tr>\n",
       "  </thead>\n",
       "  <tbody>\n",
       "    <tr>\n",
       "      <th>0</th>\n",
       "      <td>tt1320304</td>\n",
       "      <td>30 Days of Night: Dark Days</td>\n",
       "      <td>movie</td>\n",
       "      <td>2010</td>\n",
       "      <td>USA</td>\n",
       "      <td>Horror, Thriller</td>\n",
       "      <td>2 wins.</td>\n",
       "      <td>SPE Acquisitions</td>\n",
       "      <td>R</td>\n",
       "      <td>NaN</td>\n",
       "      <td>4.4</td>\n",
       "      <td>11772.0</td>\n",
       "      <td>2010.0</td>\n",
       "    </tr>\n",
       "    <tr>\n",
       "      <th>1</th>\n",
       "      <td>tt0858411</td>\n",
       "      <td>2001 Maniacs: Field of Screams</td>\n",
       "      <td>movie</td>\n",
       "      <td>2010</td>\n",
       "      <td>USA</td>\n",
       "      <td>Comedy, Horror</td>\n",
       "      <td>NaN</td>\n",
       "      <td>First Look Studios</td>\n",
       "      <td>R</td>\n",
       "      <td>NaN</td>\n",
       "      <td>3.2</td>\n",
       "      <td>2161.0</td>\n",
       "      <td>2010.0</td>\n",
       "    </tr>\n",
       "    <tr>\n",
       "      <th>2</th>\n",
       "      <td>tt1753422</td>\n",
       "      <td>Alice in Murderland</td>\n",
       "      <td>movie</td>\n",
       "      <td>2010</td>\n",
       "      <td>USA</td>\n",
       "      <td>Horror, Thriller</td>\n",
       "      <td>NaN</td>\n",
       "      <td>Sterling Entertainment</td>\n",
       "      <td>Not Rated</td>\n",
       "      <td>NaN</td>\n",
       "      <td>1.8</td>\n",
       "      <td>865.0</td>\n",
       "      <td>2010.0</td>\n",
       "    </tr>\n",
       "    <tr>\n",
       "      <th>3</th>\n",
       "      <td>tt1100051</td>\n",
       "      <td>Bereavement</td>\n",
       "      <td>movie</td>\n",
       "      <td>2010</td>\n",
       "      <td>USA</td>\n",
       "      <td>Crime, Horror, Thriller</td>\n",
       "      <td>4 wins.</td>\n",
       "      <td>Crimson Films</td>\n",
       "      <td>R</td>\n",
       "      <td>NaN</td>\n",
       "      <td>5.1</td>\n",
       "      <td>6320.0</td>\n",
       "      <td>2010.0</td>\n",
       "    </tr>\n",
       "    <tr>\n",
       "      <th>4</th>\n",
       "      <td>tt0947798</td>\n",
       "      <td>Black Swan</td>\n",
       "      <td>movie</td>\n",
       "      <td>2010</td>\n",
       "      <td>USA</td>\n",
       "      <td>Drama, Thriller</td>\n",
       "      <td>Won 1 Oscar. Another 91 wins &amp; 257 nominations.</td>\n",
       "      <td>Fox Searchlight</td>\n",
       "      <td>R</td>\n",
       "      <td>79.0</td>\n",
       "      <td>8.0</td>\n",
       "      <td>660992.0</td>\n",
       "      <td>2010.0</td>\n",
       "    </tr>\n",
       "  </tbody>\n",
       "</table>\n",
       "</div>"
      ],
      "text/plain": [
       "     IMDB ID                           Title Type of Media  Year Country  \\\n",
       "0  tt1320304     30 Days of Night: Dark Days         movie  2010     USA   \n",
       "1  tt0858411  2001 Maniacs: Field of Screams         movie  2010     USA   \n",
       "2  tt1753422             Alice in Murderland         movie  2010     USA   \n",
       "3  tt1100051                     Bereavement         movie  2010     USA   \n",
       "4  tt0947798                      Black Swan         movie  2010     USA   \n",
       "\n",
       "                     Genre                                           Awards  \\\n",
       "0         Horror, Thriller                                          2 wins.   \n",
       "1           Comedy, Horror                                              NaN   \n",
       "2         Horror, Thriller                                              NaN   \n",
       "3  Crime, Horror, Thriller                                          4 wins.   \n",
       "4          Drama, Thriller  Won 1 Oscar. Another 91 wins & 257 nominations.   \n",
       "\n",
       "       Production Company     Rating  Metascore  IMDB Rating  # of Votes  \\\n",
       "0        SPE Acquisitions          R        NaN          4.4     11772.0   \n",
       "1      First Look Studios          R        NaN          3.2      2161.0   \n",
       "2  Sterling Entertainment  Not Rated        NaN          1.8       865.0   \n",
       "3           Crimson Films          R        NaN          5.1      6320.0   \n",
       "4         Fox Searchlight          R       79.0          8.0    660992.0   \n",
       "\n",
       "   Start/Release_Year  \n",
       "0              2010.0  \n",
       "1              2010.0  \n",
       "2              2010.0  \n",
       "3              2010.0  \n",
       "4              2010.0  "
      ]
     },
     "execution_count": 2,
     "metadata": {},
     "output_type": "execute_result"
    }
   ],
   "source": [
    "# File to Load (Remember to Change These)\n",
    "horror_data_to_load = \"data/Horror_dataframe.csv\"\n",
    "\n",
    "\n",
    "# Read the Mouse and Drug Data and the Clinical Trial Data\n",
    "horror = pd.read_csv(horror_data_to_load)\n",
    "\n",
    "#drop NAN (full row only)\n",
    "horror_clean=horror.dropna(how='all', inplace=False)\n",
    "\n",
    "\n",
    "#convert year to single year (start year for series)\n",
    "horror_clean[\"Start/Release_Year\"] = horror_clean['Year'].str[:4]\n",
    "horror_clean[\"Start/Release_Year\"] = horror_clean[\"Start/Release_Year\"].astype(float)\n",
    "\n",
    "#filter for Country containing USA\n",
    "horror_clean=horror_clean.loc[horror_clean.Country.str.contains(\"USA\", na=False)]\n",
    "\n",
    "\n",
    "#keep media with Start/Release Years of 2010-2019\n",
    "years = [\"2000\", \"2001\", \"2002\", \"2003\", \"2004\",\"2005\", \"2006\",\n",
    "         \"2007\",\"2008\",\"2009\",\"2010\", \"2011\", \"2012\", \"2013\",\n",
    "         \"2014\", \"2015\", \"2016\", \"2017\", \"2018\"]\n",
    "horror_years=horror_clean[horror_clean[\"Start/Release_Year\"].isin(years)]\n",
    "\n",
    "\n",
    "#convert # of votes to float for later calculation\n",
    "horror_years[\"# of Votes\"]=horror_years[\"# of Votes\"].str.replace(',','')\n",
    "horror_years[\"# of Votes\"] = horror_years[\"# of Votes\"].astype(float)\n",
    "\n",
    "\n",
    "\n",
    "horror_years.head()\n"
   ]
  },
  {
   "cell_type": "markdown",
   "metadata": {},
   "source": [
    "# Comedy: Import and Clean Data"
   ]
  },
  {
   "cell_type": "code",
   "execution_count": 17,
   "metadata": {},
   "outputs": [
    {
     "data": {
      "text/html": [
       "<div>\n",
       "<style scoped>\n",
       "    .dataframe tbody tr th:only-of-type {\n",
       "        vertical-align: middle;\n",
       "    }\n",
       "\n",
       "    .dataframe tbody tr th {\n",
       "        vertical-align: top;\n",
       "    }\n",
       "\n",
       "    .dataframe thead th {\n",
       "        text-align: right;\n",
       "    }\n",
       "</style>\n",
       "<table border=\"1\" class=\"dataframe\">\n",
       "  <thead>\n",
       "    <tr style=\"text-align: right;\">\n",
       "      <th></th>\n",
       "      <th>IMDB ID</th>\n",
       "      <th>Title</th>\n",
       "      <th>Type of Media</th>\n",
       "      <th>Year</th>\n",
       "      <th>Country</th>\n",
       "      <th>Genre</th>\n",
       "      <th>Awards</th>\n",
       "      <th>Production Company</th>\n",
       "      <th>Rating</th>\n",
       "      <th>Metascore</th>\n",
       "      <th>IMDB Rating</th>\n",
       "      <th># of Votes</th>\n",
       "      <th>Start/Release_Year</th>\n",
       "    </tr>\n",
       "  </thead>\n",
       "  <tbody>\n",
       "    <tr>\n",
       "      <th>0</th>\n",
       "      <td>tt1038919</td>\n",
       "      <td>The Bounty Hunter</td>\n",
       "      <td>movie</td>\n",
       "      <td>2010</td>\n",
       "      <td>USA</td>\n",
       "      <td>Action, Comedy, Romance</td>\n",
       "      <td>4 wins &amp; 5 nominations.</td>\n",
       "      <td>Sony Pictures</td>\n",
       "      <td>PG-13</td>\n",
       "      <td>22.0</td>\n",
       "      <td>5.6</td>\n",
       "      <td>114202.0</td>\n",
       "      <td>2010.0</td>\n",
       "    </tr>\n",
       "    <tr>\n",
       "      <th>1</th>\n",
       "      <td>tt1385867</td>\n",
       "      <td>Cop Out</td>\n",
       "      <td>movie</td>\n",
       "      <td>2010</td>\n",
       "      <td>USA</td>\n",
       "      <td>Action, Comedy, Crime, Thriller</td>\n",
       "      <td>1 nomination.</td>\n",
       "      <td>Warner Bros. Pictures</td>\n",
       "      <td>R</td>\n",
       "      <td>31.0</td>\n",
       "      <td>5.6</td>\n",
       "      <td>82489.0</td>\n",
       "      <td>2010.0</td>\n",
       "    </tr>\n",
       "    <tr>\n",
       "      <th>2</th>\n",
       "      <td>tt1336617</td>\n",
       "      <td>Cyrus</td>\n",
       "      <td>movie</td>\n",
       "      <td>2010</td>\n",
       "      <td>USA</td>\n",
       "      <td>Comedy, Drama, Romance</td>\n",
       "      <td>6 nominations.</td>\n",
       "      <td>Fox Searchlight</td>\n",
       "      <td>R</td>\n",
       "      <td>74.0</td>\n",
       "      <td>6.3</td>\n",
       "      <td>32830.0</td>\n",
       "      <td>2010.0</td>\n",
       "    </tr>\n",
       "    <tr>\n",
       "      <th>3</th>\n",
       "      <td>tt1279935</td>\n",
       "      <td>Date Night</td>\n",
       "      <td>movie</td>\n",
       "      <td>2010</td>\n",
       "      <td>USA</td>\n",
       "      <td>Comedy, Crime, Romance, Thriller</td>\n",
       "      <td>4 wins &amp; 8 nominations.</td>\n",
       "      <td>20th Century Fox</td>\n",
       "      <td>PG-13</td>\n",
       "      <td>56.0</td>\n",
       "      <td>6.3</td>\n",
       "      <td>146296.0</td>\n",
       "      <td>2010.0</td>\n",
       "    </tr>\n",
       "    <tr>\n",
       "      <th>4</th>\n",
       "      <td>tt0795368</td>\n",
       "      <td>Death at a Funeral</td>\n",
       "      <td>movie</td>\n",
       "      <td>2007</td>\n",
       "      <td>USA, Germany, UK, Netherlands</td>\n",
       "      <td>Comedy</td>\n",
       "      <td>2 wins &amp; 2 nominations.</td>\n",
       "      <td>NaN</td>\n",
       "      <td>R</td>\n",
       "      <td>67.0</td>\n",
       "      <td>7.4</td>\n",
       "      <td>103945.0</td>\n",
       "      <td>2007.0</td>\n",
       "    </tr>\n",
       "  </tbody>\n",
       "</table>\n",
       "</div>"
      ],
      "text/plain": [
       "     IMDB ID               Title Type of Media  Year  \\\n",
       "0  tt1038919   The Bounty Hunter         movie  2010   \n",
       "1  tt1385867             Cop Out         movie  2010   \n",
       "2  tt1336617               Cyrus         movie  2010   \n",
       "3  tt1279935          Date Night         movie  2010   \n",
       "4  tt0795368  Death at a Funeral         movie  2007   \n",
       "\n",
       "                         Country                             Genre  \\\n",
       "0                            USA           Action, Comedy, Romance   \n",
       "1                            USA   Action, Comedy, Crime, Thriller   \n",
       "2                            USA            Comedy, Drama, Romance   \n",
       "3                            USA  Comedy, Crime, Romance, Thriller   \n",
       "4  USA, Germany, UK, Netherlands                            Comedy   \n",
       "\n",
       "                    Awards     Production Company Rating  Metascore  \\\n",
       "0  4 wins & 5 nominations.          Sony Pictures  PG-13       22.0   \n",
       "1            1 nomination.  Warner Bros. Pictures      R       31.0   \n",
       "2           6 nominations.        Fox Searchlight      R       74.0   \n",
       "3  4 wins & 8 nominations.       20th Century Fox  PG-13       56.0   \n",
       "4  2 wins & 2 nominations.                    NaN      R       67.0   \n",
       "\n",
       "   IMDB Rating  # of Votes  Start/Release_Year  \n",
       "0          5.6    114202.0              2010.0  \n",
       "1          5.6     82489.0              2010.0  \n",
       "2          6.3     32830.0              2010.0  \n",
       "3          6.3    146296.0              2010.0  \n",
       "4          7.4    103945.0              2007.0  "
      ]
     },
     "execution_count": 17,
     "metadata": {},
     "output_type": "execute_result"
    }
   ],
   "source": [
    "# File to Load (Remember to Change These)\n",
    "comedy_data_to_load = \"data/Comedy_dataframe.csv\"\n",
    "\n",
    "\n",
    "# Read the Mouse and Drug Data and the Clinical Trial Data\n",
    "comedy = pd.read_csv(comedy_data_to_load)\n",
    "\n",
    "#drop NAN (full row only)\n",
    "comedy_clean=comedy.dropna(how='all', inplace=False)\n",
    "\n",
    "\n",
    "#convert year to single year (start year for series)\n",
    "comedy_clean[\"Start/Release_Year\"] = comedy_clean['Year'].str[:4]\n",
    "comedy_clean[\"Start/Release_Year\"] = comedy_clean[\"Start/Release_Year\"].astype(float)\n",
    "\n",
    "#filter for Country containing USA\n",
    "comedy_clean=comedy_clean.loc[comedy_clean.Country.str.contains(\"USA\", na=False)]\n",
    "\n",
    "\n",
    "#keep media with Start/Release Years of 2010-2019\n",
    "years = [\"2000\", \"2001\", \"2002\", \"2003\", \"2004\",\"2005\", \"2006\",\n",
    "         \"2007\",\"2008\",\"2009\",\"2010\", \"2011\", \"2012\", \"2013\",\n",
    "         \"2014\", \"2015\", \"2016\", \"2017\", \"2018\"]\n",
    "comedy_years=comedy_clean[comedy_clean[\"Start/Release_Year\"].isin(years)]\n",
    "\n",
    "\n",
    "#convert # of votes to float for later calculation\n",
    "comedy_years[\"# of Votes\"]=comedy_years[\"# of Votes\"].str.replace(',','')\n",
    "comedy_years[\"# of Votes\"] = comedy_years[\"# of Votes\"].astype(float)\n",
    "\n",
    "\n",
    "\n",
    "comedy_years.head()\n"
   ]
  },
  {
   "cell_type": "markdown",
   "metadata": {},
   "source": [
    "# Docu: Import and Clean Data"
   ]
  },
  {
   "cell_type": "code",
   "execution_count": 18,
   "metadata": {},
   "outputs": [
    {
     "data": {
      "text/html": [
       "<div>\n",
       "<style scoped>\n",
       "    .dataframe tbody tr th:only-of-type {\n",
       "        vertical-align: middle;\n",
       "    }\n",
       "\n",
       "    .dataframe tbody tr th {\n",
       "        vertical-align: top;\n",
       "    }\n",
       "\n",
       "    .dataframe thead th {\n",
       "        text-align: right;\n",
       "    }\n",
       "</style>\n",
       "<table border=\"1\" class=\"dataframe\">\n",
       "  <thead>\n",
       "    <tr style=\"text-align: right;\">\n",
       "      <th></th>\n",
       "      <th>IMDB ID</th>\n",
       "      <th>Title</th>\n",
       "      <th>Type of Media</th>\n",
       "      <th>Year</th>\n",
       "      <th>Country</th>\n",
       "      <th>Genre</th>\n",
       "      <th>Awards</th>\n",
       "      <th>Production Company</th>\n",
       "      <th>Rating</th>\n",
       "      <th>Metascore</th>\n",
       "      <th>IMDB Rating</th>\n",
       "      <th># of Votes</th>\n",
       "      <th>Start/Release_Year</th>\n",
       "    </tr>\n",
       "  </thead>\n",
       "  <tbody>\n",
       "    <tr>\n",
       "      <th>0</th>\n",
       "      <td>tt0972541</td>\n",
       "      <td>1 More Hit</td>\n",
       "      <td>movie</td>\n",
       "      <td>2007</td>\n",
       "      <td>USA</td>\n",
       "      <td>Documentary, Music</td>\n",
       "      <td>1 nomination.</td>\n",
       "      <td>NaN</td>\n",
       "      <td>NaN</td>\n",
       "      <td>NaN</td>\n",
       "      <td>5.6</td>\n",
       "      <td>16.0</td>\n",
       "      <td>2007.0</td>\n",
       "    </tr>\n",
       "    <tr>\n",
       "      <th>2</th>\n",
       "      <td>tt2247692</td>\n",
       "      <td>2016: Obama's America</td>\n",
       "      <td>movie</td>\n",
       "      <td>2012</td>\n",
       "      <td>USA</td>\n",
       "      <td>Documentary</td>\n",
       "      <td>1 nomination.</td>\n",
       "      <td>Rocky Mountain Pictures</td>\n",
       "      <td>PG</td>\n",
       "      <td>28.0</td>\n",
       "      <td>5.0</td>\n",
       "      <td>10197.0</td>\n",
       "      <td>2012.0</td>\n",
       "    </tr>\n",
       "    <tr>\n",
       "      <th>5</th>\n",
       "      <td>tt0448881</td>\n",
       "      <td>500 Dunam on the Moon</td>\n",
       "      <td>movie</td>\n",
       "      <td>2002</td>\n",
       "      <td>USA</td>\n",
       "      <td>Documentary</td>\n",
       "      <td>NaN</td>\n",
       "      <td>NaN</td>\n",
       "      <td>NaN</td>\n",
       "      <td>NaN</td>\n",
       "      <td>NaN</td>\n",
       "      <td>NaN</td>\n",
       "      <td>2002.0</td>\n",
       "    </tr>\n",
       "    <tr>\n",
       "      <th>6</th>\n",
       "      <td>tt0444593</td>\n",
       "      <td>500 Years Later</td>\n",
       "      <td>movie</td>\n",
       "      <td>2005</td>\n",
       "      <td>UK, USA</td>\n",
       "      <td>Documentary</td>\n",
       "      <td>2 wins.</td>\n",
       "      <td>Codeblack TV</td>\n",
       "      <td>Not Rated</td>\n",
       "      <td>NaN</td>\n",
       "      <td>6.8</td>\n",
       "      <td>179.0</td>\n",
       "      <td>2005.0</td>\n",
       "    </tr>\n",
       "    <tr>\n",
       "      <th>9</th>\n",
       "      <td>tt0446083</td>\n",
       "      <td>10 MPH</td>\n",
       "      <td>movie</td>\n",
       "      <td>2007</td>\n",
       "      <td>USA</td>\n",
       "      <td>Documentary</td>\n",
       "      <td>2 wins.</td>\n",
       "      <td>Spinning Blue</td>\n",
       "      <td>NOT RATED</td>\n",
       "      <td>NaN</td>\n",
       "      <td>6.8</td>\n",
       "      <td>377.0</td>\n",
       "      <td>2007.0</td>\n",
       "    </tr>\n",
       "  </tbody>\n",
       "</table>\n",
       "</div>"
      ],
      "text/plain": [
       "     IMDB ID                  Title Type of Media  Year  Country  \\\n",
       "0  tt0972541             1 More Hit         movie  2007      USA   \n",
       "2  tt2247692  2016: Obama's America         movie  2012      USA   \n",
       "5  tt0448881  500 Dunam on the Moon         movie  2002      USA   \n",
       "6  tt0444593        500 Years Later         movie  2005  UK, USA   \n",
       "9  tt0446083                 10 MPH         movie  2007      USA   \n",
       "\n",
       "                Genre         Awards       Production Company     Rating  \\\n",
       "0  Documentary, Music  1 nomination.                      NaN        NaN   \n",
       "2         Documentary  1 nomination.  Rocky Mountain Pictures         PG   \n",
       "5         Documentary            NaN                      NaN        NaN   \n",
       "6         Documentary        2 wins.             Codeblack TV  Not Rated   \n",
       "9         Documentary        2 wins.            Spinning Blue  NOT RATED   \n",
       "\n",
       "   Metascore  IMDB Rating  # of Votes  Start/Release_Year  \n",
       "0        NaN          5.6        16.0              2007.0  \n",
       "2       28.0          5.0     10197.0              2012.0  \n",
       "5        NaN          NaN         NaN              2002.0  \n",
       "6        NaN          6.8       179.0              2005.0  \n",
       "9        NaN          6.8       377.0              2007.0  "
      ]
     },
     "execution_count": 18,
     "metadata": {},
     "output_type": "execute_result"
    }
   ],
   "source": [
    "# File to Load (Remember to Change These)\n",
    "docu_data_to_load = \"data/Docu_dataframe.csv\"\n",
    "\n",
    "\n",
    "# Read the Mouse and Drug Data and the Clinical Trial Data\n",
    "docu = pd.read_csv(docu_data_to_load)\n",
    "\n",
    "#drop NAN (full row only)\n",
    "docu_clean=docu.dropna(how='all', inplace=False)\n",
    "\n",
    "\n",
    "#convert year to single year (start year for series)\n",
    "docu_clean[\"Start/Release_Year\"] = docu_clean['Year'].str[:4]\n",
    "docu_clean[\"Start/Release_Year\"] = docu_clean[\"Start/Release_Year\"].astype(float)\n",
    "\n",
    "#filter for Country containing USA\n",
    "docu_clean=docu_clean.loc[docu_clean.Country.str.contains(\"USA\", na=False)]\n",
    "\n",
    "\n",
    "#keep media with Start/Release Years of 2010-2019\n",
    "years = [\"2000\", \"2001\", \"2002\", \"2003\", \"2004\",\"2005\", \"2006\",\n",
    "         \"2007\",\"2008\",\"2009\",\"2010\", \"2011\", \"2012\", \"2013\",\n",
    "         \"2014\", \"2015\", \"2016\", \"2017\", \"2018\"]\n",
    "docu_years=docu_clean[docu_clean[\"Start/Release_Year\"].isin(years)]\n",
    "\n",
    "\n",
    "#convert # of votes to float for later calculation\n",
    "docu_years[\"# of Votes\"]=docu_years[\"# of Votes\"].str.replace(',','')\n",
    "docu_years[\"# of Votes\"] = docu_years[\"# of Votes\"].astype(float)\n",
    "\n",
    "\n",
    "\n",
    "docu_years.head()\n"
   ]
  },
  {
   "cell_type": "markdown",
   "metadata": {},
   "source": [
    "# Horror: Productions by Year"
   ]
  },
  {
   "cell_type": "code",
   "execution_count": 14,
   "metadata": {
    "scrolled": false
   },
   "outputs": [
    {
     "data": {
      "text/plain": [
       "(0, 37)"
      ]
     },
     "execution_count": 14,
     "metadata": {},
     "output_type": "execute_result"
    },
    {
     "data": {
      "image/png": "[encoded data removed]",
      "text/plain": [
       "<Figure size 864x288 with 1 Axes>"
      ]
     },
     "metadata": {
      "needs_background": "light"
     },
     "output_type": "display_data"
    }
   ],
   "source": [
    "# Store number of productions grouped by media type and release year \n",
    "horror_gb = horror_years.groupby([\"Type of Media\", \"Start/Release_Year\"])\n",
    "Number_Produced = horror_gb[\"Title\"].count()\n",
    "\n",
    "# Convert to DataFrame & reset index\n",
    "horror_df_1 = pd.DataFrame({\"No. of Productions\": Number_Produced})\n",
    "horror_df_1 = horror_df_1.reset_index()\n",
    "\n",
    "\n",
    "# Re-Format the Data Frame\n",
    "horror_df_1 = horror_df_1.pivot(index='Start/Release_Year', columns='Type of Media', values='No. of Productions')\n",
    "horror_df_1.reset_index()\n",
    "\n",
    "#plot number of productions\n",
    "df=horror_df_1\n",
    "\n",
    "ax = df.plot(kind='line', y=\"movie\",color=\"red\",linestyle=\"dotted\",figsize=(12, 4))\n",
    "\n",
    "df.plot(kind='line', y=\"series\",color=\"blue\",linestyle=\"dotted\", ax=ax)\n",
    "\n",
    "#format and titles\n",
    "ax.yaxis.grid()\n",
    "ax.set_title('Horror: Productions 2010-2018',fontsize= 18)\n",
    "ax.set_xlabel(\"Release Year\")\n",
    "ax.set_ylabel(\"No. of Productions\")\n",
    "\n",
    "plt.xlim(2000, 2018)\n",
    "plt.ylim(0, 37)\n",
    "\n"
   ]
  },
  {
   "cell_type": "markdown",
   "metadata": {},
   "source": [
    "# Comedy: Productions by Year"
   ]
  },
  {
   "cell_type": "code",
   "execution_count": 21,
   "metadata": {},
   "outputs": [
    {
     "data": {
      "text/plain": [
       "(0, 60)"
      ]
     },
     "execution_count": 21,
     "metadata": {},
     "output_type": "execute_result"
    },
    {
     "data": {
      "image/png": "[encoded data removed]",
      "text/plain": [
       "<Figure size 864x288 with 1 Axes>"
      ]
     },
     "metadata": {
      "needs_background": "light"
     },
     "output_type": "display_data"
    }
   ],
   "source": [
    "# Store number of productions grouped by media type and release year \n",
    "comedy_gb = comedy_years.groupby([\"Type of Media\", \"Start/Release_Year\"])\n",
    "Number_Produced = comedy_gb[\"Title\"].count()\n",
    "\n",
    "# Convert to DataFrame & reset index\n",
    "comedy_df_1 = pd.DataFrame({\"No. of Productions\": Number_Produced})\n",
    "comedy_df_1 = comedy_df_1.reset_index()\n",
    "\n",
    "\n",
    "# Re-Format the Data Frame\n",
    "comedy_df_1 = comedy_df_1.pivot(index='Start/Release_Year', columns='Type of Media', values='No. of Productions')\n",
    "comedy_df_1.reset_index()\n",
    "\n",
    "#plot number of productions\n",
    "df=comedy_df_1\n",
    "\n",
    "ax = df.plot(kind='line', y=\"movie\",color=\"red\",linestyle=\"dotted\",figsize=(12, 4))\n",
    "\n",
    "df.plot(kind='line', y=\"series\",color=\"blue\",linestyle=\"dotted\", ax=ax)\n",
    "\n",
    "#format and titles\n",
    "ax.yaxis.grid()\n",
    "ax.set_title('Comedy: Productions 2010-2018',fontsize= 18)\n",
    "ax.set_xlabel(\"Release Year\")\n",
    "ax.set_ylabel(\"No. of Productions\")\n",
    "\n",
    "plt.xlim(2000, 2018)\n",
    "plt.ylim(0, 60)"
   ]
  },
  {
   "cell_type": "markdown",
   "metadata": {},
   "source": [
    "# Docu: Productions by Year"
   ]
  },
  {
   "cell_type": "code",
   "execution_count": 23,
   "metadata": {},
   "outputs": [
    {
     "data": {
      "text/plain": [
       "(0, 60)"
      ]
     },
     "execution_count": 23,
     "metadata": {},
     "output_type": "execute_result"
    },
    {
     "data": {
      "image/png": "[encoded data removed]",
      "text/plain": [
       "<Figure size 864x288 with 1 Axes>"
      ]
     },
     "metadata": {
      "needs_background": "light"
     },
     "output_type": "display_data"
    }
   ],
   "source": [
    "# Store number of productions grouped by media type and release year \n",
    "docu_gb = docu_years.groupby([\"Type of Media\", \"Start/Release_Year\"])\n",
    "Number_Produced = docu_gb[\"Title\"].count()\n",
    "\n",
    "# Convert to DataFrame & reset index\n",
    "docu_df_1 = pd.DataFrame({\"No. of Productions\": Number_Produced})\n",
    "docu_df_1 = docu_df_1.reset_index()\n",
    "\n",
    "\n",
    "# Re-Format the Data Frame\n",
    "docu_df_1 = docu_df_1.pivot(index='Start/Release_Year', columns='Type of Media', values='No. of Productions')\n",
    "docu_df_1.reset_index()\n",
    "\n",
    "#plot number of productions\n",
    "df=docu_df_1\n",
    "\n",
    "ax = df.plot(kind='line', y=\"movie\",color=\"red\",linestyle=\"dotted\",figsize=(12, 4))\n",
    "\n",
    "df.plot(kind='line', y=\"series\",color=\"blue\",linestyle=\"dotted\", ax=ax)\n",
    "\n",
    "#format and titles\n",
    "ax.yaxis.grid()\n",
    "ax.set_title('Documentary: Productions 2010-2018',fontsize= 18)\n",
    "ax.set_xlabel(\"Release Year\")\n",
    "ax.set_ylabel(\"No. of Productions\")\n",
    "\n",
    "plt.xlim(2000, 2018)\n",
    "plt.ylim(0, 60)"
   ]
  },
  {
   "cell_type": "markdown",
   "metadata": {},
   "source": [
    "# Horror: IMDB Ratings"
   ]
  },
  {
   "cell_type": "code",
   "execution_count": 16,
   "metadata": {
    "scrolled": true
   },
   "outputs": [
    {
     "data": {
      "text/plain": [
       "(0, 10)"
      ]
     },
     "execution_count": 16,
     "metadata": {},
     "output_type": "execute_result"
    },
    {
     "data": {
      "image/png": "[encoded data removed]",
      "text/plain": [
       "<Figure size 864x288 with 1 Axes>"
      ]
     },
     "metadata": {
      "needs_background": "light"
     },
     "output_type": "display_data"
    }
   ],
   "source": [
    "# Store number of productions grouped by media type and release year \n",
    "horror_gb = horror_years.groupby([\"Type of Media\", \"Start/Release_Year\"])\n",
    "avg_IMDB_rating = horror_gb[\"IMDB Rating\"].mean()\n",
    "\n",
    "# Convert to DataFrame & reset index\n",
    "horror_df_2 = pd.DataFrame({\"Avg IMDB Rating\": avg_IMDB_rating})\n",
    "horror_df_2 = horror_df_2.reset_index()\n",
    "\n",
    "\n",
    "# Re-Format the Data Frame\n",
    "horror_df_2 = horror_df_2.pivot(index='Start/Release_Year', columns='Type of Media', values='Avg IMDB Rating')\n",
    "horror_df_2.reset_index()\n",
    "    \n",
    " #plot number of productions\n",
    "df=horror_df_2\n",
    "\n",
    "ax = df.plot(kind='line', y=\"movie\",color=\"red\",linestyle=\"dotted\",figsize=(12, 4))\n",
    "\n",
    "df.plot(kind='line', y=\"series\",color=\"blue\",linestyle=\"dotted\", ax=ax)\n",
    "\n",
    "#format and titles\n",
    "ax.yaxis.grid()\n",
    "\n",
    "ax.set_title('Horror: IMDB Ratings 2010-2018',fontsize= 18)\n",
    "ax.set_xlabel(\"Release Year\")\n",
    "ax.set_ylabel(\"Avg Rating\")\n",
    "\n",
    "plt.xlim(2000, 2018)\n",
    "plt.ylim(0, 10)\n",
    "   "
   ]
  },
  {
   "cell_type": "markdown",
   "metadata": {},
   "source": [
    " # Comedy: IMDB Ratings"
   ]
  },
  {
   "cell_type": "code",
   "execution_count": 22,
   "metadata": {},
   "outputs": [
    {
     "data": {
      "text/plain": [
       "(0, 10)"
      ]
     },
     "execution_count": 22,
     "metadata": {},
     "output_type": "execute_result"
    },
    {
     "data": {
      "image/png": "[encoded data removed]",
      "text/plain": [
       "<Figure size 864x288 with 1 Axes>"
      ]
     },
     "metadata": {
      "needs_background": "light"
     },
     "output_type": "display_data"
    }
   ],
   "source": [
    "# Store number of productions grouped by media type and release year \n",
    "comedy_gb = comedy_years.groupby([\"Type of Media\", \"Start/Release_Year\"])\n",
    "avg_IMDB_rating = comedy_gb[\"IMDB Rating\"].mean()\n",
    "\n",
    "# Convert to DataFrame & reset index\n",
    "comedy_df_2 = pd.DataFrame({\"Avg IMDB Rating\": avg_IMDB_rating})\n",
    "comedy_df_2 = comedy_df_2.reset_index()\n",
    "\n",
    "\n",
    "# Re-Format the Data Frame\n",
    "comedy_df_2 = comedy_df_2.pivot(index='Start/Release_Year', columns='Type of Media', values='Avg IMDB Rating')\n",
    "comedy_df_2.reset_index()\n",
    "    \n",
    " #plot number of productions\n",
    "df=comedy_df_2\n",
    "\n",
    "ax = df.plot(kind='line', y=\"movie\",color=\"red\",linestyle=\"dotted\",figsize=(12, 4))\n",
    "\n",
    "df.plot(kind='line', y=\"series\",color=\"blue\",linestyle=\"dotted\", ax=ax)\n",
    "\n",
    "#format and titles\n",
    "ax.yaxis.grid()\n",
    "\n",
    "ax.set_title('Comedy: IMDB Ratings 2010-2018',fontsize= 18)\n",
    "ax.set_xlabel(\"Release Year\")\n",
    "ax.set_ylabel(\"Avg Rating\")\n",
    "\n",
    "plt.xlim(2000, 2018)\n",
    "plt.ylim(0, 10)\n",
    "   "
   ]
  },
  {
   "cell_type": "markdown",
   "metadata": {},
   "source": [
    "# Docu: IMDB Ratings"
   ]
  },
  {
   "cell_type": "code",
   "execution_count": 25,
   "metadata": {},
   "outputs": [
    {
     "data": {
      "text/plain": [
       "(0, 10)"
      ]
     },
     "execution_count": 25,
     "metadata": {},
     "output_type": "execute_result"
    },
    {
     "data": {
      "image/png": "[encoded data removed]",
      "text/plain": [
       "<Figure size 864x288 with 1 Axes>"
      ]
     },
     "metadata": {
      "needs_background": "light"
     },
     "output_type": "display_data"
    }
   ],
   "source": [
    "# Store number of productions grouped by media type and release year \n",
    "docu_gb = docu_years.groupby([\"Type of Media\", \"Start/Release_Year\"])\n",
    "avg_IMDB_rating = docu_gb[\"IMDB Rating\"].mean()\n",
    "\n",
    "# Convert to DataFrame & reset index\n",
    "docu_df_2 = pd.DataFrame({\"Avg IMDB Rating\": avg_IMDB_rating})\n",
    "docu_df_2 = docu_df_2.reset_index()\n",
    "\n",
    "\n",
    "# Re-Format the Data Frame\n",
    "docu_df_2 = docu_df_2.pivot(index='Start/Release_Year', columns='Type of Media', values='Avg IMDB Rating')\n",
    "docu_df_2.reset_index()\n",
    "    \n",
    " #plot number of productions\n",
    "df=docu_df_2\n",
    "\n",
    "ax = df.plot(kind='line', y=\"movie\",color=\"red\",linestyle=\"dotted\",figsize=(12, 4))\n",
    "\n",
    "df.plot(kind='line', y=\"series\",color=\"blue\",linestyle=\"dotted\", ax=ax)\n",
    "\n",
    "#format and titles\n",
    "ax.yaxis.grid()\n",
    "\n",
    "ax.set_title('Documentary: IMDB Ratings 2010-2018',fontsize= 18)\n",
    "ax.set_xlabel(\"Release Year\")\n",
    "ax.set_ylabel(\"Avg Rating\")\n",
    "\n",
    "plt.xlim(2000, 2018)\n",
    "plt.ylim(0, 10)"
   ]
  },
  {
   "cell_type": "code",
   "execution_count": null,
   "metadata": {},
   "outputs": [],
   "source": []
  }
 ],
 "metadata": {
  "anaconda-cloud": {},
  "kernelspec": {
   "display_name": "Python 3",
   "language": "python",
   "name": "python3"
  },
  "language_info": {
   "codemirror_mode": {
    "name": "ipython",
    "version": 3
   },
   "file_extension": ".py",
   "mimetype": "text/x-python",
   "name": "python",
   "nbconvert_exporter": "python",
   "pygments_lexer": "ipython3",
   "version": "3.6.9"
  }
 },
 "nbformat": 4,
 "nbformat_minor": 1
}
